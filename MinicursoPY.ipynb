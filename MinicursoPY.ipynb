{
  "nbformat": 4,
  "nbformat_minor": 0,
  "metadata": {
    "colab": {
      "provenance": [],
      "authorship_tag": "ABX9TyO8Bdi+uiJcprW0RhtC4+jd",
      "include_colab_link": true
    },
    "kernelspec": {
      "name": "python3",
      "display_name": "Python 3"
    },
    "language_info": {
      "name": "python"
    }
  },
  "cells": [
    {
      "cell_type": "markdown",
      "metadata": {
        "id": "view-in-github",
        "colab_type": "text"
      },
      "source": [
        "<a href=\"https://colab.research.google.com/github/allanaaquinox/clonedesite/blob/main/MinicursoPY.ipynb\" target=\"_parent\"><img src=\"https://colab.research.google.com/assets/colab-badge.svg\" alt=\"Open In Colab\"/></a>"
      ]
    },
    {
      "cell_type": "code",
      "execution_count": 3,
      "metadata": {
        "colab": {
          "base_uri": "https://localhost:8080/"
        },
        "id": "_y4smqm7BiEH",
        "outputId": "702895fa-9744-4d1a-e621-7fdfcb51bf7d"
      },
      "outputs": [
        {
          "output_type": "stream",
          "name": "stdout",
          "text": [
            "Allana eee\n"
          ]
        }
      ],
      "source": [
        "#Primeira aula de demonstração.\n",
        "print('Allana eee')"
      ]
    },
    {
      "cell_type": "code",
      "source": [
        "x = 2\n",
        "print(type(x))"
      ],
      "metadata": {
        "colab": {
          "base_uri": "https://localhost:8080/"
        },
        "id": "IvaHnSN8CtxM",
        "outputId": "08bad1bb-3664-47a7-9fdc-6e6d62bd76aa"
      },
      "execution_count": 6,
      "outputs": [
        {
          "output_type": "stream",
          "name": "stdout",
          "text": [
            "<class 'int'>\n"
          ]
        }
      ]
    },
    {
      "cell_type": "code",
      "source": [
        "x = 'Olá mundo!'\n",
        "print(x)\n",
        "print(type(x))"
      ],
      "metadata": {
        "colab": {
          "base_uri": "https://localhost:8080/"
        },
        "id": "1UnT3tkeDh6v",
        "outputId": "f5951197-bb42-4774-e606-64bf74a0e583"
      },
      "execution_count": 9,
      "outputs": [
        {
          "output_type": "stream",
          "name": "stdout",
          "text": [
            "Olá mundo!\n",
            "<class 'str'>\n"
          ]
        }
      ]
    },
    {
      "cell_type": "code",
      "source": [
        "x = 2\n",
        "y = 2\n",
        "print(x == y)"
      ],
      "metadata": {
        "colab": {
          "base_uri": "https://localhost:8080/"
        },
        "id": "W3lHlg6IEGCu",
        "outputId": "f1d98283-67c4-4cf1-f945-c739394152d3"
      },
      "execution_count": 11,
      "outputs": [
        {
          "output_type": "stream",
          "name": "stdout",
          "text": [
            "True\n"
          ]
        }
      ]
    },
    {
      "cell_type": "code",
      "source": [
        "x = 10//3\n",
        "print(x)"
      ],
      "metadata": {
        "colab": {
          "base_uri": "https://localhost:8080/"
        },
        "id": "gJ8K4zjrEY8-",
        "outputId": "df4cd185-8f1b-4bba-dfb4-87d3ec20eacb"
      },
      "execution_count": 15,
      "outputs": [
        {
          "output_type": "stream",
          "name": "stdout",
          "text": [
            "3\n"
          ]
        }
      ]
    },
    {
      "cell_type": "code",
      "source": [
        "x = 10%3\n",
        "print(x)"
      ],
      "metadata": {
        "colab": {
          "base_uri": "https://localhost:8080/"
        },
        "id": "OH2AuOxDFFTN",
        "outputId": "3da4e642-2d63-486f-b145-232d99c21686"
      },
      "execution_count": 16,
      "outputs": [
        {
          "output_type": "stream",
          "name": "stdout",
          "text": [
            "1\n"
          ]
        }
      ]
    },
    {
      "cell_type": "code",
      "source": [
        "aline = 3\n",
        "bruna = 3\n",
        "print(aline >= bruna)"
      ],
      "metadata": {
        "colab": {
          "base_uri": "https://localhost:8080/"
        },
        "id": "lQUxrXhCFizd",
        "outputId": "725b2be0-c171-4d96-d84f-10cf2540a3cd"
      },
      "execution_count": 18,
      "outputs": [
        {
          "output_type": "stream",
          "name": "stdout",
          "text": [
            "True\n"
          ]
        }
      ]
    },
    {
      "cell_type": "code",
      "source": [
        "media = 2\n",
        "print(f'A media do estudante é: {media}.')"
      ],
      "metadata": {
        "colab": {
          "base_uri": "https://localhost:8080/"
        },
        "id": "O7nQ2viqG7Pk",
        "outputId": "bc11798b-67df-4abc-a0ff-430acd1c0e81"
      },
      "execution_count": 20,
      "outputs": [
        {
          "output_type": "stream",
          "name": "stdout",
          "text": [
            "A media do estudante é: 2.\n"
          ]
        }
      ]
    },
    {
      "cell_type": "code",
      "source": [
        "nome = input('Digite seu nome: ')\n",
        "idade = input('Digite sua idade: ')\n",
        "endereco = input('Digite seu endereço:')\n",
        "matricula = input('Digite sua matricula:')\n",
        "print(f'Seu nome é {nome}.')\n",
        "print(f'Sua idade é {idade}.')\n",
        "print(f'Seu endereço é {endereco}.')\n",
        "print(f'Sua matricula é {matricula}.')"
      ],
      "metadata": {
        "colab": {
          "base_uri": "https://localhost:8080/"
        },
        "id": "rWjqmhhsH6ZV",
        "outputId": "bafec1e9-592a-4141-b81e-55b2e767fc13"
      },
      "execution_count": 22,
      "outputs": [
        {
          "output_type": "stream",
          "name": "stdout",
          "text": [
            "Digite seu nome: allana\n",
            "Digite sua idade: 25\n",
            "Digite seu endereço:av dom\n",
            "Digite sua matricula:00\n",
            "Seu nome é allana.\n",
            "Sua idade é 25.\n",
            "Seu endereço é av dom.\n",
            "Sua matricula é 00.\n"
          ]
        }
      ]
    }
  ]
}